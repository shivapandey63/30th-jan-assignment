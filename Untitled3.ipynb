{
 "cells": [
  {
   "cell_type": "code",
   "execution_count": 1,
   "id": "69ab9c9b-99da-47a7-8c72-06aa2b2dd850",
   "metadata": {},
   "outputs": [
    {
     "name": "stdin",
     "output_type": "stream",
     "text": [
      "enter percentage:  70\n"
     ]
    },
    {
     "name": "stdout",
     "output_type": "stream",
     "text": [
      "Grade C\n"
     ]
    }
   ],
   "source": [
    "#30th january assignment\n",
    "\n",
    "#answer 1\n",
    "percentage=int(input(\"enter percentage: \"))\n",
    "if percentage > 90:\n",
    "    print(\"Grade A\")\n",
    "elif percentage <=90 and percentage >80:\n",
    "    print(\"Grade B\")\n",
    "elif percentage <=80 and percentage >=60:\n",
    "    print(\"Grade C\")\n",
    "else:\n",
    "    print(\"Grade D\")\n",
    "    "
   ]
  },
  {
   "cell_type": "code",
   "execution_count": 5,
   "id": "5367fdc6-242d-41e8-befa-ff86ed11f437",
   "metadata": {},
   "outputs": [
    {
     "name": "stdin",
     "output_type": "stream",
     "text": [
      "Cost price of the bike 60000\n"
     ]
    },
    {
     "name": "stdout",
     "output_type": "stream",
     "text": [
      "Tax in bike is 10%\n"
     ]
    }
   ],
   "source": [
    "#answer2\n",
    "cost_price=int(input(\"Cost price of the bike\"))\n",
    "if cost_price > 100000:\n",
    "    print(\"Tax in bike is 15%\")\n",
    "elif cost_price > 50000 and cost_price <= 100000:\n",
    "    print(\"Tax in bike is 10%\")\n",
    "elif cost_price <= 50000:\n",
    "    print(\"Tax in bike is 5%\")\n",
    "    "
   ]
  },
  {
   "cell_type": "code",
   "execution_count": 6,
   "id": "04219d57-0d8b-43dc-90ce-25ce016feb14",
   "metadata": {},
   "outputs": [
    {
     "name": "stdin",
     "output_type": "stream",
     "text": [
      "Enter city:  delhi\n"
     ]
    },
    {
     "name": "stdout",
     "output_type": "stream",
     "text": [
      "Red fort\n"
     ]
    }
   ],
   "source": [
    "#answer3\n",
    "city=str(input(\"Enter city: \"))\n",
    "if city==\"delhi\":\n",
    "    print(\"Red fort\")\n",
    "elif city==\"agra\":\n",
    "    print(\"Taj mahal\")\n",
    "elif city==\"jaipur\":\n",
    "    print(\"Jal mahal\")"
   ]
  },
  {
   "cell_type": "code",
   "execution_count": 2,
   "id": "569fdd9d-e8c7-49a2-b3d1-2002197a5cbd",
   "metadata": {},
   "outputs": [
    {
     "name": "stdin",
     "output_type": "stream",
     "text": [
      "Enter your number:  7\n"
     ]
    },
    {
     "name": "stdout",
     "output_type": "stream",
     "text": [
      "not divisible by 3\n"
     ]
    }
   ],
   "source": [
    "#answer4\n",
    "n=int(input(\"Enter your number: \"))\n",
    "if(n%3==0):\n",
    "    print(\"divisibe by 3\")\n",
    "else: \n",
    "    print(\"not divisible by 3\")"
   ]
  },
  {
   "cell_type": "code",
   "execution_count": 6,
   "id": "cf31f86d-3354-4124-8c65-f00f0d30a94d",
   "metadata": {},
   "outputs": [],
   "source": [
    "#answer5\n",
    "\n",
    "#\"While\" Loop is used to repeat a specific block of code an unknown number of times, until a condition is met. \n",
    "#For example, if we want to ask a user for a number between 1 and 10, we don't know how many times the user may enter a larger number, so we keep asking \"while the number is not between 1 and 10\"."
   ]
  },
  {
   "cell_type": "code",
   "execution_count": 1,
   "id": "e8bb6be0-3f4a-44b4-9e2d-cc4f8917782a",
   "metadata": {},
   "outputs": [],
   "source": [
    "#answer 6\n",
    "\n"
   ]
  },
  {
   "cell_type": "code",
   "execution_count": 2,
   "id": "0e40f1d5-80a4-4f0f-bf45-190623aa527c",
   "metadata": {},
   "outputs": [
    {
     "name": "stdout",
     "output_type": "stream",
     "text": [
      "10\n",
      "9\n",
      "8\n",
      "7\n",
      "6\n",
      "5\n",
      "4\n",
      "3\n",
      "2\n",
      "1\n"
     ]
    }
   ],
   "source": [
    "#answer 7\n",
    "\n",
    "n=10\n",
    "while n>=1:\n",
    "    print(n)\n",
    "    n=n-1\n",
    "    "
   ]
  },
  {
   "cell_type": "code",
   "execution_count": 2,
   "id": "3582d17f-5800-4613-943e-564080d2b15a",
   "metadata": {},
   "outputs": [
    {
     "name": "stdout",
     "output_type": "stream",
     "text": [
      "10\n",
      "9\n",
      "8\n",
      "7\n",
      "6\n",
      "5\n",
      "4\n",
      "3\n",
      "2\n",
      "1\n"
     ]
    }
   ],
   "source": [
    "#answer 8\n",
    "\n",
    "n=10\n",
    "while n>=1:\n",
    "    print(n)\n",
    "    n=n-1\n",
    "    "
   ]
  },
  {
   "cell_type": "code",
   "execution_count": null,
   "id": "3399c684-b8da-490c-b7d7-50791e095f28",
   "metadata": {},
   "outputs": [],
   "source": []
  }
 ],
 "metadata": {
  "kernelspec": {
   "display_name": "Python 3 (ipykernel)",
   "language": "python",
   "name": "python3"
  },
  "language_info": {
   "codemirror_mode": {
    "name": "ipython",
    "version": 3
   },
   "file_extension": ".py",
   "mimetype": "text/x-python",
   "name": "python",
   "nbconvert_exporter": "python",
   "pygments_lexer": "ipython3",
   "version": "3.10.8"
  }
 },
 "nbformat": 4,
 "nbformat_minor": 5
}
